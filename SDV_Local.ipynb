{
 "cells": [
  {
   "cell_type": "code",
   "id": "initial_id",
   "metadata": {
    "collapsed": true,
    "ExecuteTime": {
     "end_time": "2024-07-19T06:48:06.268967Z",
     "start_time": "2024-07-19T06:48:05.304900Z"
    }
   },
   "source": [
    "import pandas as pd\n",
    "import numpy as np\n",
    "\n",
    "# Load the CSV file\n",
    "df = pd.read_csv('synthetic_data.csv')\n",
    "\n",
    "# Replace empty strings with NaN\n",
    "df = df.replace('', np.nan)\n",
    "\n",
    "# Convert relevant columns to numeric\n",
    "cols_to_numeric = [col for col in df.columns if col not in ['Time', 'Interval']]\n",
    "df[cols_to_numeric] = df[cols_to_numeric].apply(pd.to_numeric)\n",
    "\n",
    "# Function to check if average is mean of min and max\n",
    "def check_average_consistency(min_col, max_col, avg_col):\n",
    "    df[f'{avg_col}_check'] = (df[min_col] + df[max_col]) / 2\n",
    "    df[f'{avg_col}_consistent'] = np.isclose(df[avg_col], df[f'{avg_col}_check'], equal_nan=True)\n",
    "    return df[f'{avg_col}_consistent'].all()\n",
    "\n",
    "# List of column groups to check\n",
    "columns_to_check = [\n",
    "    ('Min op-reachability (%)', 'Max op-reachability (%)', 'Avg op-reachability (%)'),\n",
    "    ('Min in-octets (kbit/s)', 'Max in-octets (kbit/s)', 'Avg in-octets (kbit/s)'),\n",
    "    ('Min in-utilization (%)', 'Max in-utilization (%)', 'Avg in-utilization (%)'),\n",
    "    ('Min in-errors (%)', 'Max in-errors (%)', 'Avg in-errors (%)'),\n",
    "    ('Min in-discards (%)', 'Max in-discards (%)', 'Avg in-discards (%)'),\n",
    "    ('Min out-octets (kbit/s)', 'Max out-octets (kbit/s)', 'Avg out-octets (kbit/s)'),\n",
    "    ('Min out-utilization (%)', 'Max out-utilization (%)', 'Avg out-utilization (%)'),\n",
    "    ('Min out-errors (%)', 'Max out-errors (%)', 'Avg out-errors (%)'),\n",
    "    ('Min out-discards (%)', 'Max out-discards (%)', 'Avg out-discards (%)')\n",
    "]\n",
    "\n",
    "# Check each group of columns\n",
    "results = {avg_col: check_average_consistency(min_col, max_col, avg_col) for min_col, max_col, avg_col in columns_to_check}\n",
    "\n",
    "# Print results\n",
    "for avg_col, consistent in results.items():\n",
    "    print(f'{avg_col}: {\"Consistent\" if consistent else \"Inconsistent\"}')\n",
    "\n",
    "# Save the detailed consistency check results\n",
    "df.to_csv('detailed_consistency_check.csv', index=False)\n"
   ],
   "outputs": [
    {
     "name": "stdout",
     "output_type": "stream",
     "text": [
      "Avg op-reachability (%): Inconsistent\n",
      "Avg in-octets (kbit/s): Inconsistent\n",
      "Avg in-utilization (%): Inconsistent\n",
      "Avg in-errors (%): Inconsistent\n",
      "Avg in-discards (%): Inconsistent\n",
      "Avg out-octets (kbit/s): Inconsistent\n",
      "Avg out-utilization (%): Inconsistent\n",
      "Avg out-errors (%): Inconsistent\n",
      "Avg out-discards (%): Inconsistent\n"
     ]
    }
   ],
   "execution_count": 1
  },
  {
   "metadata": {},
   "cell_type": "code",
   "outputs": [],
   "execution_count": null,
   "source": "print ",
   "id": "3dd3db74d3770ebe"
  }
 ],
 "metadata": {
  "kernelspec": {
   "display_name": "Python 3",
   "language": "python",
   "name": "python3"
  },
  "language_info": {
   "codemirror_mode": {
    "name": "ipython",
    "version": 2
   },
   "file_extension": ".py",
   "mimetype": "text/x-python",
   "name": "python",
   "nbconvert_exporter": "python",
   "pygments_lexer": "ipython2",
   "version": "2.7.6"
  }
 },
 "nbformat": 4,
 "nbformat_minor": 5
}
