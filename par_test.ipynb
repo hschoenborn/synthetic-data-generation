{
 "cells": [
  {
   "cell_type": "code",
   "id": "initial_id",
   "metadata": {
    "collapsed": true,
    "ExecuteTime": {
     "end_time": "2024-09-09T12:30:44.624333Z",
     "start_time": "2024-09-09T12:30:44.596483Z"
    }
   },
   "source": [
    "from datetime import datetime\n",
    "from sdv.metadata import SingleTableMetadata\n",
    "# load measurement as a pandas dataframe\n",
    "import pandas as pd\n",
    "import numpy as np\n",
    "\n",
    "# load the data\n",
    "df = pd.read_csv('108522_last_4_6.csv', delimiter=';')\n",
    "\n",
    "df['Time'] = df['Time'].apply(\n",
    "            lambda x: datetime.utcfromtimestamp(x / 1000).strftime('%Y-%m-%d %H:%M:%S'))\n",
    "\n",
    "# manually add a sequence key to the data (108522)\n",
    "df['sequence_key'] = 108522\n",
    "\n",
    "# write json specs\n",
    "import json\n",
    "\n",
    "# Load metadata\n",
    "with open('metadata_PAR.json', 'r') as f:\n",
    "    metadata_dict = json.load(f)\n",
    "    \n",
    "metadata = SingleTableMetadata.load_from_dict(metadata_dict)"
   ],
   "outputs": [],
   "execution_count": 8
  },
  {
   "metadata": {
    "ExecuteTime": {
     "end_time": "2024-09-09T12:31:35.305403Z",
     "start_time": "2024-09-09T12:30:44.626221Z"
    }
   },
   "cell_type": "code",
   "source": [
    "from sdv.sequential import PARSynthesizer\n",
    "\n",
    "synthesizer = PARSynthesizer(metadata)\n",
    "synthesizer.fit(df)\n",
    "\n",
    "synthetic_data = synthesizer.sample(num_sequences=1)"
   ],
   "id": "12741f85e2a6f97c",
   "outputs": [
    {
     "name": "stderr",
     "output_type": "stream",
     "text": [
      "C:\\Users\\FelixNeubauer\\anaconda3\\envs\\sdv\\lib\\site-packages\\deepecho\\models\\par.py:132: RuntimeWarning: Mean of empty slice\n",
      "  'mu': np.nanmean(x[i]),\n",
      "C:\\Users\\FelixNeubauer\\anaconda3\\envs\\sdv\\lib\\site-packages\\numpy\\lib\\nanfunctions.py:1879: RuntimeWarning: Degrees of freedom <= 0 for slice.\n",
      "  var = nanvar(a, axis=axis, dtype=dtype, out=out, ddof=ddof,\n"
     ]
    }
   ],
   "execution_count": 9
  },
  {
   "metadata": {
    "ExecuteTime": {
     "end_time": "2024-09-09T12:31:35.336540Z",
     "start_time": "2024-09-09T12:31:35.307932Z"
    }
   },
   "cell_type": "code",
   "source": "synthetic_data.head()",
   "id": "5f386948b798c7a8",
   "outputs": [
    {
     "data": {
      "text/plain": [
       "   sequence_key                 Time  Interval  Min op-reachability (%)  \\\n",
       "0     256169871  2024-02-28 22:50:00   2432752                      NaN   \n",
       "1     256169871  2024-02-28 22:55:00  16415083                    100.0   \n",
       "2     256169871  2024-02-29 01:51:42  12172644                    100.0   \n",
       "3     256169871  2024-02-29 07:41:41  29700000                      NaN   \n",
       "4     256169871  2024-02-29 08:51:39    300000                      NaN   \n",
       "\n",
       "   Max op-reachability (%)  Avg op-reachability (%)  Min in-octets (kbit/s)  \\\n",
       "0                      NaN                      NaN                     0.0   \n",
       "1                    100.0                    100.0                     NaN   \n",
       "2                    100.0                      NaN                     0.0   \n",
       "3                    100.0                      NaN                     NaN   \n",
       "4                      NaN                    100.0                     NaN   \n",
       "\n",
       "   Max in-octets (kbit/s)  Avg in-octets (kbit/s)  Min in-utilization (%)  \\\n",
       "0                     NaN                     NaN                     NaN   \n",
       "1               24.335330                     NaN                     NaN   \n",
       "2               13.136324                4.109874                     NaN   \n",
       "3                     NaN                     NaN                     NaN   \n",
       "4               23.652863                2.775929                     NaN   \n",
       "\n",
       "   ...  Avg out-octets (kbit/s)  Min out-utilization (%)  \\\n",
       "0  ...                 2.742524                      NaN   \n",
       "1  ...                      NaN                      NaN   \n",
       "2  ...                      NaN                      NaN   \n",
       "3  ...                 2.840227                      NaN   \n",
       "4  ...                      NaN                      NaN   \n",
       "\n",
       "   Max out-utilization (%)  Avg out-utilization (%)  Min out-errors (%)  \\\n",
       "0                      NaN                      NaN                 0.0   \n",
       "1                      NaN                      NaN                 0.0   \n",
       "2                      NaN                      NaN                 NaN   \n",
       "3                      NaN                      NaN                 0.0   \n",
       "4                      NaN                      NaN                 0.0   \n",
       "\n",
       "   Max out-errors (%)  Avg out-errors (%)  Min out-discards (%)  \\\n",
       "0                 NaN                 NaN                   NaN   \n",
       "1                 0.0                 0.0                   0.0   \n",
       "2                 NaN                 NaN                   NaN   \n",
       "3                 NaN                 NaN                   NaN   \n",
       "4                 NaN                 0.0                   0.0   \n",
       "\n",
       "   Max out-discards (%)  Avg out-discards (%)  \n",
       "0                   0.0                   NaN  \n",
       "1                   NaN                   NaN  \n",
       "2                   0.0                   NaN  \n",
       "3                   0.0                   NaN  \n",
       "4                   0.0                   NaN  \n",
       "\n",
       "[5 rows x 30 columns]"
      ],
      "text/html": [
       "<div>\n",
       "<style scoped>\n",
       "    .dataframe tbody tr th:only-of-type {\n",
       "        vertical-align: middle;\n",
       "    }\n",
       "\n",
       "    .dataframe tbody tr th {\n",
       "        vertical-align: top;\n",
       "    }\n",
       "\n",
       "    .dataframe thead th {\n",
       "        text-align: right;\n",
       "    }\n",
       "</style>\n",
       "<table border=\"1\" class=\"dataframe\">\n",
       "  <thead>\n",
       "    <tr style=\"text-align: right;\">\n",
       "      <th></th>\n",
       "      <th>sequence_key</th>\n",
       "      <th>Time</th>\n",
       "      <th>Interval</th>\n",
       "      <th>Min op-reachability (%)</th>\n",
       "      <th>Max op-reachability (%)</th>\n",
       "      <th>Avg op-reachability (%)</th>\n",
       "      <th>Min in-octets (kbit/s)</th>\n",
       "      <th>Max in-octets (kbit/s)</th>\n",
       "      <th>Avg in-octets (kbit/s)</th>\n",
       "      <th>Min in-utilization (%)</th>\n",
       "      <th>...</th>\n",
       "      <th>Avg out-octets (kbit/s)</th>\n",
       "      <th>Min out-utilization (%)</th>\n",
       "      <th>Max out-utilization (%)</th>\n",
       "      <th>Avg out-utilization (%)</th>\n",
       "      <th>Min out-errors (%)</th>\n",
       "      <th>Max out-errors (%)</th>\n",
       "      <th>Avg out-errors (%)</th>\n",
       "      <th>Min out-discards (%)</th>\n",
       "      <th>Max out-discards (%)</th>\n",
       "      <th>Avg out-discards (%)</th>\n",
       "    </tr>\n",
       "  </thead>\n",
       "  <tbody>\n",
       "    <tr>\n",
       "      <th>0</th>\n",
       "      <td>256169871</td>\n",
       "      <td>2024-02-28 22:50:00</td>\n",
       "      <td>2432752</td>\n",
       "      <td>NaN</td>\n",
       "      <td>NaN</td>\n",
       "      <td>NaN</td>\n",
       "      <td>0.0</td>\n",
       "      <td>NaN</td>\n",
       "      <td>NaN</td>\n",
       "      <td>NaN</td>\n",
       "      <td>...</td>\n",
       "      <td>2.742524</td>\n",
       "      <td>NaN</td>\n",
       "      <td>NaN</td>\n",
       "      <td>NaN</td>\n",
       "      <td>0.0</td>\n",
       "      <td>NaN</td>\n",
       "      <td>NaN</td>\n",
       "      <td>NaN</td>\n",
       "      <td>0.0</td>\n",
       "      <td>NaN</td>\n",
       "    </tr>\n",
       "    <tr>\n",
       "      <th>1</th>\n",
       "      <td>256169871</td>\n",
       "      <td>2024-02-28 22:55:00</td>\n",
       "      <td>16415083</td>\n",
       "      <td>100.0</td>\n",
       "      <td>100.0</td>\n",
       "      <td>100.0</td>\n",
       "      <td>NaN</td>\n",
       "      <td>24.335330</td>\n",
       "      <td>NaN</td>\n",
       "      <td>NaN</td>\n",
       "      <td>...</td>\n",
       "      <td>NaN</td>\n",
       "      <td>NaN</td>\n",
       "      <td>NaN</td>\n",
       "      <td>NaN</td>\n",
       "      <td>0.0</td>\n",
       "      <td>0.0</td>\n",
       "      <td>0.0</td>\n",
       "      <td>0.0</td>\n",
       "      <td>NaN</td>\n",
       "      <td>NaN</td>\n",
       "    </tr>\n",
       "    <tr>\n",
       "      <th>2</th>\n",
       "      <td>256169871</td>\n",
       "      <td>2024-02-29 01:51:42</td>\n",
       "      <td>12172644</td>\n",
       "      <td>100.0</td>\n",
       "      <td>100.0</td>\n",
       "      <td>NaN</td>\n",
       "      <td>0.0</td>\n",
       "      <td>13.136324</td>\n",
       "      <td>4.109874</td>\n",
       "      <td>NaN</td>\n",
       "      <td>...</td>\n",
       "      <td>NaN</td>\n",
       "      <td>NaN</td>\n",
       "      <td>NaN</td>\n",
       "      <td>NaN</td>\n",
       "      <td>NaN</td>\n",
       "      <td>NaN</td>\n",
       "      <td>NaN</td>\n",
       "      <td>NaN</td>\n",
       "      <td>0.0</td>\n",
       "      <td>NaN</td>\n",
       "    </tr>\n",
       "    <tr>\n",
       "      <th>3</th>\n",
       "      <td>256169871</td>\n",
       "      <td>2024-02-29 07:41:41</td>\n",
       "      <td>29700000</td>\n",
       "      <td>NaN</td>\n",
       "      <td>100.0</td>\n",
       "      <td>NaN</td>\n",
       "      <td>NaN</td>\n",
       "      <td>NaN</td>\n",
       "      <td>NaN</td>\n",
       "      <td>NaN</td>\n",
       "      <td>...</td>\n",
       "      <td>2.840227</td>\n",
       "      <td>NaN</td>\n",
       "      <td>NaN</td>\n",
       "      <td>NaN</td>\n",
       "      <td>0.0</td>\n",
       "      <td>NaN</td>\n",
       "      <td>NaN</td>\n",
       "      <td>NaN</td>\n",
       "      <td>0.0</td>\n",
       "      <td>NaN</td>\n",
       "    </tr>\n",
       "    <tr>\n",
       "      <th>4</th>\n",
       "      <td>256169871</td>\n",
       "      <td>2024-02-29 08:51:39</td>\n",
       "      <td>300000</td>\n",
       "      <td>NaN</td>\n",
       "      <td>NaN</td>\n",
       "      <td>100.0</td>\n",
       "      <td>NaN</td>\n",
       "      <td>23.652863</td>\n",
       "      <td>2.775929</td>\n",
       "      <td>NaN</td>\n",
       "      <td>...</td>\n",
       "      <td>NaN</td>\n",
       "      <td>NaN</td>\n",
       "      <td>NaN</td>\n",
       "      <td>NaN</td>\n",
       "      <td>0.0</td>\n",
       "      <td>NaN</td>\n",
       "      <td>0.0</td>\n",
       "      <td>0.0</td>\n",
       "      <td>0.0</td>\n",
       "      <td>NaN</td>\n",
       "    </tr>\n",
       "  </tbody>\n",
       "</table>\n",
       "<p>5 rows × 30 columns</p>\n",
       "</div>"
      ]
     },
     "execution_count": 10,
     "metadata": {},
     "output_type": "execute_result"
    }
   ],
   "execution_count": 10
  },
  {
   "metadata": {
    "ExecuteTime": {
     "end_time": "2024-09-09T12:34:25.050623Z",
     "start_time": "2024-09-09T12:34:23.813269Z"
    }
   },
   "cell_type": "code",
   "source": [
    "from sdmetrics.reports.single_table import QualityReport\n",
    "\n",
    "report = QualityReport()\n",
    "report.generate(df, synthetic_data, metadata_dict)"
   ],
   "id": "33094bb581c6ada4",
   "outputs": [
    {
     "name": "stdout",
     "output_type": "stream",
     "text": [
      "Generating report ...\n",
      "\n",
      "(1/2) Evaluating Column Shapes: |██████████| 30/30 [00:00<00:00, 1038.67it/s]|\n",
      "Column Shapes Score: 90.67%\n",
      "\n"
     ]
    },
    {
     "name": "stderr",
     "output_type": "stream",
     "text": [
      "C:\\Users\\FelixNeubauer\\anaconda3\\envs\\sdv\\lib\\site-packages\\sdmetrics\\single_column\\statistical\\kscomplement.py:59: SmallSampleWarning: One or more sample arguments is too small; all returned values will be NaN. See documentation for sample size requirements.\n",
      "  statistic, _ = ks_2samp(real_data, synthetic_data)\n"
     ]
    },
    {
     "name": "stdout",
     "output_type": "stream",
     "text": [
      "(2/2) Evaluating Column Pair Trends: |██████████| 435/435 [00:01<00:00, 369.44it/s]|\n",
      "Column Pair Trends Score: 85.22%\n",
      "\n",
      "Overall Score (Average): 87.94%\n",
      "\n"
     ]
    }
   ],
   "execution_count": 12
  },
  {
   "metadata": {
    "ExecuteTime": {
     "end_time": "2024-09-09T12:35:04.113709Z",
     "start_time": "2024-09-09T12:35:02.415724Z"
    }
   },
   "cell_type": "code",
   "source": [
    "fig = report.get_visualization(property_name='Column Shapes')\n",
    "fig.show()"
   ],
   "id": "64a7b9d99eecefb3",
   "outputs": [
    {
     "data": {
      "text/html": [
       "<iframe\n",
       "    scrolling=\"no\"\n",
       "    width=\"100%\"\n",
       "    height=\"545px\"\n",
       "    src=\"iframe_figures/figure_13.html\"\n",
       "    frameborder=\"0\"\n",
       "    allowfullscreen\n",
       "></iframe>\n"
      ]
     },
     "metadata": {},
     "output_type": "display_data"
    }
   ],
   "execution_count": 13
  },
  {
   "metadata": {
    "ExecuteTime": {
     "end_time": "2024-09-09T12:43:51.927570Z",
     "start_time": "2024-09-09T12:43:51.898084Z"
    }
   },
   "cell_type": "code",
   "source": [
    "# save df and synthetic data to csv\n",
    "synthetic_data.to_csv('108522_last_4_6_synthetic.csv', index=False)"
   ],
   "id": "49101ca4779eab6b",
   "outputs": [],
   "execution_count": 14
  },
  {
   "metadata": {},
   "cell_type": "code",
   "outputs": [],
   "execution_count": null,
   "source": "",
   "id": "3fa7e14a1cf0ff37"
  }
 ],
 "metadata": {
  "kernelspec": {
   "display_name": "Python 3",
   "language": "python",
   "name": "python3"
  },
  "language_info": {
   "codemirror_mode": {
    "name": "ipython",
    "version": 2
   },
   "file_extension": ".py",
   "mimetype": "text/x-python",
   "name": "python",
   "nbconvert_exporter": "python",
   "pygments_lexer": "ipython2",
   "version": "2.7.6"
  }
 },
 "nbformat": 4,
 "nbformat_minor": 5
}
